{
  "metadata": {
    "kernelspec": {
      "name": "python",
      "display_name": "Pyolite",
      "language": "python"
    },
    "language_info": {
      "codemirror_mode": {
        "name": "python",
        "version": 3
      },
      "file_extension": ".py",
      "mimetype": "text/x-python",
      "name": "python",
      "nbconvert_exporter": "python",
      "pygments_lexer": "ipython3",
      "version": "3.8"
    }
  },
  "nbformat_minor": 4,
  "nbformat": 4,
  "cells": [
    {
      "cell_type": "markdown",
      "source": "<center>\n    <img src=\"https://s3-api.us-geo.objectstorage.softlayer.net/cf-courses-data/CognitiveClass/Logos/organization_logo/organization_logo.png\" width=\"300\" alt=\"cognitiveclass.ai logo\"  />\n</center>\n",
      "metadata": {}
    },
    {
      "cell_type": "markdown",
      "source": "#### Add your code below following the instructions given in the course\n",
      "metadata": {}
    },
    {
      "cell_type": "markdown",
      "source": "# My Jupyter Notebook ",
      "metadata": {}
    },
    {
      "cell_type": "markdown",
      "source": "**YASHU CHAUHAN**\n\nStudent",
      "metadata": {}
    },
    {
      "cell_type": "markdown",
      "source": "*Data Science is a field of applying endless prossibilities to data and finding out important insights. Since I'm a very curious person, data science fascinates me alot.*",
      "metadata": {}
    },
    {
      "cell_type": "markdown",
      "source": "### The below mentioned code is about comparison of two numbers. ",
      "metadata": {}
    },
    {
      "cell_type": "code",
      "source": "a=10\nb=5\nif a>b:\n    print (\"a is greater\")\nelse:\n    print (\"b is greater\")\n",
      "metadata": {
        "trusted": true
      },
      "execution_count": 2,
      "outputs": [
        {
          "name": "stdout",
          "text": "a is greater\n",
          "output_type": "stream"
        }
      ]
    },
    {
      "cell_type": "markdown",
      "source": "`Below are the examples of:`\n\n* BULLET LIST\n* HORIZONTAL LINE\n* HYPERLINK\n* TABLE\n\n***\nThis is a horizontal line\n***\n\n<a href=\"https://dataplatform.cloud.ibm.com/gallery\">IBM Cloud Gallery</a>\n\n|EmployeeName|Age|\n|------------|---|\n|Samantha|30|\n|John|25|\n",
      "metadata": {}
    }
  ]
}